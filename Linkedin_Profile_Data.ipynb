{
 "cells": [
  {
   "cell_type": "code",
   "execution_count": 1,
   "metadata": {},
   "outputs": [],
   "source": [
    "#Import Packages\n",
    "from selenium import webdriver\n",
    "import time\n",
    "import pandas as pd\n",
    "import os"
   ]
  },
  {
   "cell_type": "code",
   "execution_count": 2,
   "metadata": {},
   "outputs": [],
   "source": [
    "from bs4 import BeautifulSoup\n",
    "\n",
    "from selenium.webdriver.support.select import Select\n",
    "from selenium.webdriver.support.ui import WebDriverWait\n",
    "from selenium.webdriver.common.by import By\n",
    "from selenium.webdriver.support import expected_conditions as EC\n",
    "from selenium.webdriver.chrome.service import Service"
   ]
  },
  {
   "cell_type": "code",
   "execution_count": 3,
   "metadata": {},
   "outputs": [
    {
     "name": "stdout",
     "output_type": "stream",
     "text": [
      "Arun\n",
      "Yadav\n",
      "https://www.linkedin.com/search/results/people/?keywords=Arun%20Yadav&origin=CLUSTER_EXPANSION&sid=wXm\n"
     ]
    }
   ],
   "source": [
    "first_name =input()\n",
    "last_name  = input()\n",
    "url1 = \"https://www.linkedin.com/search/results/people/?keywords={}%20{}&origin=CLUSTER_EXPANSION&sid=wXm\".format(first_name, last_name)\n",
    "print(url1)"
   ]
  },
  {
   "cell_type": "code",
   "execution_count": 4,
   "metadata": {},
   "outputs": [],
   "source": [
    "service = Service(executable_path=\"C:\\\\Users\\\\gouth\\\\Downloads\\\\chromedriver.exe\")\n",
    "options = webdriver.ChromeOptions()\n",
    "driver = webdriver.Chrome(service=service, options=options)\n",
    "driver.get(url1)"
   ]
  },
  {
   "cell_type": "code",
   "execution_count": 5,
   "metadata": {},
   "outputs": [],
   "source": [
    "sign_in_link = driver.find_element(By.XPATH, \"//a[@class='main__sign-in-link']\")\n",
    "sign_in_link.click()"
   ]
  },
  {
   "cell_type": "code",
   "execution_count": 6,
   "metadata": {},
   "outputs": [],
   "source": [
    "email = \"mail\"\n",
    "email_input = driver.find_element(By.ID,\"username\")\n",
    "email_input.clear()\n",
    "email_input.send_keys(email)"
   ]
  },
  {
   "cell_type": "code",
   "execution_count": 7,
   "metadata": {},
   "outputs": [],
   "source": [
    "password = \"****\"\n",
    "password_input = driver.find_element(By.ID, \"password\")\n",
    "password_input.clear()\n",
    "password_input.send_keys(password)"
   ]
  },
  {
   "cell_type": "code",
   "execution_count": 8,
   "metadata": {},
   "outputs": [],
   "source": [
    "submit_button = driver.find_element(By.XPATH, \"//button[@class='btn__primary--large from__button--floating']\")\n",
    "submit_button.click()"
   ]
  },
  {
   "cell_type": "code",
   "execution_count": 11,
   "metadata": {},
   "outputs": [],
   "source": [
    "html_content = driver.page_source\n",
    "soup = BeautifulSoup(html_content, 'html.parser')"
   ]
  },
  {
   "cell_type": "code",
   "execution_count": 12,
   "metadata": {},
   "outputs": [
    {
     "name": "stdout",
     "output_type": "stream",
     "text": [
      "\n"
     ]
    }
   ],
   "source": [
    "name_element = driver.find_element(By.XPATH, \"//span[@aria-hidden='true']\")\n",
    "name = name_element.text\n",
    "print(name)"
   ]
  },
  {
   "cell_type": "code",
   "execution_count": 13,
   "metadata": {
    "scrolled": false
   },
   "outputs": [
    {
     "name": "stdout",
     "output_type": "stream",
     "text": [
      "Arun Yadav\n",
      "Arun Yadav\n",
      "Arun Yadav\n",
      "Arun Yadav\n",
      "Arun Yadav\n",
      "Arun Yadav\n",
      "Arun Yadav\n",
      "Arun Yadav\n",
      "Arun Yadav\n",
      "Arun Yadav\n"
     ]
    }
   ],
   "source": [
    "Name = []\n",
    "try:\n",
    "    for i in range(10):\n",
    "        name_element = soup.select_one('span.entity-result__title-text.t-16 a span[aria-hidden=\"true\"]')\n",
    "        name = name_element.text if name_element else None\n",
    "        Name.append(name)\n",
    "        print(name)\n",
    "\n",
    "except IndexError:\n",
    "    print(\"no\")\n",
    "        "
   ]
  },
  {
   "cell_type": "code",
   "execution_count": 14,
   "metadata": {},
   "outputs": [],
   "source": [
    "soup = BeautifulSoup(html_content, 'html.parser')"
   ]
  },
  {
   "cell_type": "code",
   "execution_count": 15,
   "metadata": {},
   "outputs": [
    {
     "name": "stdout",
     "output_type": "stream",
     "text": [
      "\n",
      "Head of Ecommerce at Beurer (India) / Brand Launch / Health Care Devices, Personal Care Appliances, Apparels, Footwear / Digital / P &L Ownership/ Strategy Planning & Execution, Leadership\n",
      "\n",
      "\n",
      "Supply Chain Manager\n",
      "\n",
      "\n",
      "Sr DevOps Engineer at Informatica | LinkedIn Top Cloud Voice 2023 | 10k+ LinkedIn | 4M+ Impressions | Udemy Instructor | AWS Certified Developer | Terraform Certified | Kubernetes | Ex- Deloitte\n",
      "\n",
      "\n",
      "Digital Marketing Head at IDAM House Of Brands\n",
      "\n",
      "\n",
      "Associate Consultant at GlobalLogic - a Hitachi Group company | Microservices | Azure & .NET Core\n",
      "\n",
      "\n",
      "Automation Test Lead at Maersk\n",
      "\n",
      "\n",
      "Li-ion cell | Agratas | Ex - Ola Cell | Ex - Samsung SDI | Ex - vivo |\n",
      "\n",
      "\n",
      "HR & GA\n",
      "\n",
      "\n",
      "I love to help people to find the better #Jobs#Career\n",
      "\n",
      "\n",
      "Founder @LeadXpert media.\n",
      "\n"
     ]
    }
   ],
   "source": [
    "primary_subtitles = soup.select('.entity-result__primary-subtitle.t-14.t-black.t-normal')[:10]\n",
    "Position = []\n",
    "for primary_subtitle in primary_subtitles:\n",
    "    a = primary_subtitle.text\n",
    "    print(a)\n",
    "    Position.append(a)"
   ]
  },
  {
   "cell_type": "code",
   "execution_count": 16,
   "metadata": {},
   "outputs": [
    {
     "data": {
      "text/plain": [
       "['\\nHead of Ecommerce at Beurer (India) / Brand Launch / Health Care Devices, Personal Care Appliances, Apparels, Footwear / Digital / P &L Ownership/ Strategy Planning & Execution, Leadership\\n',\n",
       " '\\nSupply Chain Manager\\n',\n",
       " '\\nSr DevOps Engineer at Informatica | LinkedIn Top Cloud Voice 2023 | 10k+ LinkedIn | 4M+ Impressions | Udemy Instructor | AWS Certified Developer | Terraform Certified | Kubernetes | Ex- Deloitte\\n',\n",
       " '\\nDigital Marketing Head at IDAM House Of Brands\\n',\n",
       " '\\nAssociate Consultant at GlobalLogic - a Hitachi Group company | Microservices | Azure & .NET Core\\n',\n",
       " '\\nAutomation Test Lead at Maersk\\n',\n",
       " '\\nLi-ion cell | Agratas | Ex - Ola Cell | Ex - Samsung SDI | Ex - vivo |\\n',\n",
       " '\\nHR & GA\\n',\n",
       " '\\nI love to help people to find the better #Jobs#Career\\n',\n",
       " '\\nFounder @LeadXpert media.\\n']"
      ]
     },
     "execution_count": 16,
     "metadata": {},
     "output_type": "execute_result"
    }
   ],
   "source": [
    "Position"
   ]
  },
  {
   "cell_type": "code",
   "execution_count": 17,
   "metadata": {
    "scrolled": true
   },
   "outputs": [
    {
     "name": "stdout",
     "output_type": "stream",
     "text": [
      "Delhi, India\n",
      "Hyderabad\n",
      "Gurugram\n",
      "Delhi, India\n",
      "Delhi, India\n",
      "Indore\n",
      "Bengaluru\n",
      "Haryana, India\n",
      "Hyderabad\n",
      "India\n"
     ]
    }
   ],
   "source": [
    "secondary_subtitles = soup.select('.entity-result__secondary-subtitle.t-14.t-normal')[:10]\n",
    "Location = []\n",
    "for secondary_subtitle in secondary_subtitles:\n",
    "    b = secondary_subtitle.text.strip()\n",
    "    print(b)\n",
    "    Location.append(b)"
   ]
  },
  {
   "cell_type": "code",
   "execution_count": 18,
   "metadata": {},
   "outputs": [],
   "source": [
    "df1 = pd.DataFrame({'Name':Name})\n",
    "df2 = pd.DataFrame({'Position':Position})\n",
    "df3 = pd.DataFrame({'Location':Location})\n",
    "df = pd.concat([df1, df2,df3],axis =1)"
   ]
  },
  {
   "cell_type": "code",
   "execution_count": 19,
   "metadata": {
    "scrolled": false
   },
   "outputs": [
    {
     "data": {
      "text/html": [
       "<div>\n",
       "<style scoped>\n",
       "    .dataframe tbody tr th:only-of-type {\n",
       "        vertical-align: middle;\n",
       "    }\n",
       "\n",
       "    .dataframe tbody tr th {\n",
       "        vertical-align: top;\n",
       "    }\n",
       "\n",
       "    .dataframe thead th {\n",
       "        text-align: right;\n",
       "    }\n",
       "</style>\n",
       "<table border=\"1\" class=\"dataframe\">\n",
       "  <thead>\n",
       "    <tr style=\"text-align: right;\">\n",
       "      <th></th>\n",
       "      <th>Name</th>\n",
       "      <th>Position</th>\n",
       "      <th>Location</th>\n",
       "    </tr>\n",
       "  </thead>\n",
       "  <tbody>\n",
       "    <tr>\n",
       "      <th>0</th>\n",
       "      <td>Arun Yadav</td>\n",
       "      <td>\\nHead of Ecommerce at Beurer (India) / Brand ...</td>\n",
       "      <td>Delhi, India</td>\n",
       "    </tr>\n",
       "    <tr>\n",
       "      <th>1</th>\n",
       "      <td>Arun Yadav</td>\n",
       "      <td>\\nSupply Chain Manager\\n</td>\n",
       "      <td>Hyderabad</td>\n",
       "    </tr>\n",
       "    <tr>\n",
       "      <th>2</th>\n",
       "      <td>Arun Yadav</td>\n",
       "      <td>\\nSr DevOps Engineer at Informatica | LinkedIn...</td>\n",
       "      <td>Gurugram</td>\n",
       "    </tr>\n",
       "    <tr>\n",
       "      <th>3</th>\n",
       "      <td>Arun Yadav</td>\n",
       "      <td>\\nDigital Marketing Head at IDAM House Of Bran...</td>\n",
       "      <td>Delhi, India</td>\n",
       "    </tr>\n",
       "    <tr>\n",
       "      <th>4</th>\n",
       "      <td>Arun Yadav</td>\n",
       "      <td>\\nAssociate Consultant at GlobalLogic - a Hita...</td>\n",
       "      <td>Delhi, India</td>\n",
       "    </tr>\n",
       "    <tr>\n",
       "      <th>5</th>\n",
       "      <td>Arun Yadav</td>\n",
       "      <td>\\nAutomation Test Lead at Maersk\\n</td>\n",
       "      <td>Indore</td>\n",
       "    </tr>\n",
       "    <tr>\n",
       "      <th>6</th>\n",
       "      <td>Arun Yadav</td>\n",
       "      <td>\\nLi-ion cell | Agratas | Ex - Ola Cell | Ex -...</td>\n",
       "      <td>Bengaluru</td>\n",
       "    </tr>\n",
       "    <tr>\n",
       "      <th>7</th>\n",
       "      <td>Arun Yadav</td>\n",
       "      <td>\\nHR &amp; GA\\n</td>\n",
       "      <td>Haryana, India</td>\n",
       "    </tr>\n",
       "    <tr>\n",
       "      <th>8</th>\n",
       "      <td>Arun Yadav</td>\n",
       "      <td>\\nI love to help people to find the better #Jo...</td>\n",
       "      <td>Hyderabad</td>\n",
       "    </tr>\n",
       "    <tr>\n",
       "      <th>9</th>\n",
       "      <td>Arun Yadav</td>\n",
       "      <td>\\nFounder @LeadXpert media.\\n</td>\n",
       "      <td>India</td>\n",
       "    </tr>\n",
       "  </tbody>\n",
       "</table>\n",
       "</div>"
      ],
      "text/plain": [
       "         Name                                           Position  \\\n",
       "0  Arun Yadav  \\nHead of Ecommerce at Beurer (India) / Brand ...   \n",
       "1  Arun Yadav                           \\nSupply Chain Manager\\n   \n",
       "2  Arun Yadav  \\nSr DevOps Engineer at Informatica | LinkedIn...   \n",
       "3  Arun Yadav  \\nDigital Marketing Head at IDAM House Of Bran...   \n",
       "4  Arun Yadav  \\nAssociate Consultant at GlobalLogic - a Hita...   \n",
       "5  Arun Yadav                 \\nAutomation Test Lead at Maersk\\n   \n",
       "6  Arun Yadav  \\nLi-ion cell | Agratas | Ex - Ola Cell | Ex -...   \n",
       "7  Arun Yadav                                        \\nHR & GA\\n   \n",
       "8  Arun Yadav  \\nI love to help people to find the better #Jo...   \n",
       "9  Arun Yadav                      \\nFounder @LeadXpert media.\\n   \n",
       "\n",
       "         Location  \n",
       "0    Delhi, India  \n",
       "1       Hyderabad  \n",
       "2        Gurugram  \n",
       "3    Delhi, India  \n",
       "4    Delhi, India  \n",
       "5          Indore  \n",
       "6       Bengaluru  \n",
       "7  Haryana, India  \n",
       "8       Hyderabad  \n",
       "9           India  "
      ]
     },
     "execution_count": 19,
     "metadata": {},
     "output_type": "execute_result"
    }
   ],
   "source": [
    "df"
   ]
  },
  {
   "cell_type": "code",
   "execution_count": 20,
   "metadata": {},
   "outputs": [
    {
     "name": "stderr",
     "output_type": "stream",
     "text": [
      "C:\\Users\\gouth\\AppData\\Local\\Temp\\ipykernel_26444\\2724986459.py:1: FutureWarning: The default value of regex will change from True to False in a future version.\n",
      "  df['Position'] = df['Position'].str.replace(r'\\n', '')\n"
     ]
    },
    {
     "data": {
      "text/html": [
       "<div>\n",
       "<style scoped>\n",
       "    .dataframe tbody tr th:only-of-type {\n",
       "        vertical-align: middle;\n",
       "    }\n",
       "\n",
       "    .dataframe tbody tr th {\n",
       "        vertical-align: top;\n",
       "    }\n",
       "\n",
       "    .dataframe thead th {\n",
       "        text-align: right;\n",
       "    }\n",
       "</style>\n",
       "<table border=\"1\" class=\"dataframe\">\n",
       "  <thead>\n",
       "    <tr style=\"text-align: right;\">\n",
       "      <th></th>\n",
       "      <th>Name</th>\n",
       "      <th>Position</th>\n",
       "      <th>Location</th>\n",
       "    </tr>\n",
       "  </thead>\n",
       "  <tbody>\n",
       "    <tr>\n",
       "      <th>0</th>\n",
       "      <td>Arun Yadav</td>\n",
       "      <td>Head of Ecommerce at Beurer (India) / Brand La...</td>\n",
       "      <td>Delhi, India</td>\n",
       "    </tr>\n",
       "    <tr>\n",
       "      <th>1</th>\n",
       "      <td>Arun Yadav</td>\n",
       "      <td>Supply Chain Manager</td>\n",
       "      <td>Hyderabad</td>\n",
       "    </tr>\n",
       "    <tr>\n",
       "      <th>2</th>\n",
       "      <td>Arun Yadav</td>\n",
       "      <td>Sr DevOps Engineer at Informatica | LinkedIn T...</td>\n",
       "      <td>Gurugram</td>\n",
       "    </tr>\n",
       "    <tr>\n",
       "      <th>3</th>\n",
       "      <td>Arun Yadav</td>\n",
       "      <td>Digital Marketing Head at IDAM House Of Brands</td>\n",
       "      <td>Delhi, India</td>\n",
       "    </tr>\n",
       "    <tr>\n",
       "      <th>4</th>\n",
       "      <td>Arun Yadav</td>\n",
       "      <td>Associate Consultant at GlobalLogic - a Hitach...</td>\n",
       "      <td>Delhi, India</td>\n",
       "    </tr>\n",
       "    <tr>\n",
       "      <th>5</th>\n",
       "      <td>Arun Yadav</td>\n",
       "      <td>Automation Test Lead at Maersk</td>\n",
       "      <td>Indore</td>\n",
       "    </tr>\n",
       "    <tr>\n",
       "      <th>6</th>\n",
       "      <td>Arun Yadav</td>\n",
       "      <td>Li-ion cell | Agratas | Ex - Ola Cell | Ex - S...</td>\n",
       "      <td>Bengaluru</td>\n",
       "    </tr>\n",
       "    <tr>\n",
       "      <th>7</th>\n",
       "      <td>Arun Yadav</td>\n",
       "      <td>HR &amp; GA</td>\n",
       "      <td>Haryana, India</td>\n",
       "    </tr>\n",
       "    <tr>\n",
       "      <th>8</th>\n",
       "      <td>Arun Yadav</td>\n",
       "      <td>I love to help people to find the better #Jobs...</td>\n",
       "      <td>Hyderabad</td>\n",
       "    </tr>\n",
       "    <tr>\n",
       "      <th>9</th>\n",
       "      <td>Arun Yadav</td>\n",
       "      <td>Founder @LeadXpert media.</td>\n",
       "      <td>India</td>\n",
       "    </tr>\n",
       "  </tbody>\n",
       "</table>\n",
       "</div>"
      ],
      "text/plain": [
       "         Name                                           Position  \\\n",
       "0  Arun Yadav  Head of Ecommerce at Beurer (India) / Brand La...   \n",
       "1  Arun Yadav                               Supply Chain Manager   \n",
       "2  Arun Yadav  Sr DevOps Engineer at Informatica | LinkedIn T...   \n",
       "3  Arun Yadav     Digital Marketing Head at IDAM House Of Brands   \n",
       "4  Arun Yadav  Associate Consultant at GlobalLogic - a Hitach...   \n",
       "5  Arun Yadav                     Automation Test Lead at Maersk   \n",
       "6  Arun Yadav  Li-ion cell | Agratas | Ex - Ola Cell | Ex - S...   \n",
       "7  Arun Yadav                                            HR & GA   \n",
       "8  Arun Yadav  I love to help people to find the better #Jobs...   \n",
       "9  Arun Yadav                          Founder @LeadXpert media.   \n",
       "\n",
       "         Location  \n",
       "0    Delhi, India  \n",
       "1       Hyderabad  \n",
       "2        Gurugram  \n",
       "3    Delhi, India  \n",
       "4    Delhi, India  \n",
       "5          Indore  \n",
       "6       Bengaluru  \n",
       "7  Haryana, India  \n",
       "8       Hyderabad  \n",
       "9           India  "
      ]
     },
     "execution_count": 20,
     "metadata": {},
     "output_type": "execute_result"
    }
   ],
   "source": [
    "df['Position'] = df['Position'].str.replace(r'\\n', '')\n",
    "df"
   ]
  },
  {
   "cell_type": "code",
   "execution_count": 21,
   "metadata": {},
   "outputs": [],
   "source": [
    "df.to_csv('linkedindata.csv')"
   ]
  },
  {
   "cell_type": "code",
   "execution_count": 22,
   "metadata": {},
   "outputs": [],
   "source": [
    "driver.close()"
   ]
  },
  {
   "cell_type": "code",
   "execution_count": null,
   "metadata": {},
   "outputs": [],
   "source": []
  }
 ],
 "metadata": {
  "kernelspec": {
   "display_name": "Python 3 (ipykernel)",
   "language": "python",
   "name": "python3"
  },
  "language_info": {
   "codemirror_mode": {
    "name": "ipython",
    "version": 3
   },
   "file_extension": ".py",
   "mimetype": "text/x-python",
   "name": "python",
   "nbconvert_exporter": "python",
   "pygments_lexer": "ipython3",
   "version": "3.10.8"
  }
 },
 "nbformat": 4,
 "nbformat_minor": 4
}
